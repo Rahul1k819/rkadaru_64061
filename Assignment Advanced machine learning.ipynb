{
  "cells": [
    {
      "cell_type": "code",
      "source": [
        "# Importing the IMDB dataset from TensorFlow\n",
        "from tensorflow.keras.datasets import imdb\n",
        "\n",
        "# Loading the dataset with only the top 10,000 most frequent words\n",
        "(X_train, y_train), (X_test, y_test) = imdb.load_data(num_words=10000)\n",
        "\n",
        "# Displaying the first training sample\n",
        "X_train[0]\n"
      ],
      "metadata": {
        "id": "ly6CWKtcDBCx",
        "outputId": "6a548e52-6241-470f-c337-2c46335a7de8",
        "colab": {
          "base_uri": "https://localhost:8080/"
        }
      },
      "execution_count": 34,
      "outputs": [
        {
          "output_type": "execute_result",
          "data": {
            "text/plain": [
              "[1,\n",
              " 14,\n",
              " 22,\n",
              " 16,\n",
              " 43,\n",
              " 530,\n",
              " 973,\n",
              " 1622,\n",
              " 1385,\n",
              " 65,\n",
              " 458,\n",
              " 4468,\n",
              " 66,\n",
              " 3941,\n",
              " 4,\n",
              " 173,\n",
              " 36,\n",
              " 256,\n",
              " 5,\n",
              " 25,\n",
              " 100,\n",
              " 43,\n",
              " 838,\n",
              " 112,\n",
              " 50,\n",
              " 670,\n",
              " 2,\n",
              " 9,\n",
              " 35,\n",
              " 480,\n",
              " 284,\n",
              " 5,\n",
              " 150,\n",
              " 4,\n",
              " 172,\n",
              " 112,\n",
              " 167,\n",
              " 2,\n",
              " 336,\n",
              " 385,\n",
              " 39,\n",
              " 4,\n",
              " 172,\n",
              " 4536,\n",
              " 1111,\n",
              " 17,\n",
              " 546,\n",
              " 38,\n",
              " 13,\n",
              " 447,\n",
              " 4,\n",
              " 192,\n",
              " 50,\n",
              " 16,\n",
              " 6,\n",
              " 147,\n",
              " 2025,\n",
              " 19,\n",
              " 14,\n",
              " 22,\n",
              " 4,\n",
              " 1920,\n",
              " 4613,\n",
              " 469,\n",
              " 4,\n",
              " 22,\n",
              " 71,\n",
              " 87,\n",
              " 12,\n",
              " 16,\n",
              " 43,\n",
              " 530,\n",
              " 38,\n",
              " 76,\n",
              " 15,\n",
              " 13,\n",
              " 1247,\n",
              " 4,\n",
              " 22,\n",
              " 17,\n",
              " 515,\n",
              " 17,\n",
              " 12,\n",
              " 16,\n",
              " 626,\n",
              " 18,\n",
              " 2,\n",
              " 5,\n",
              " 62,\n",
              " 386,\n",
              " 12,\n",
              " 8,\n",
              " 316,\n",
              " 8,\n",
              " 106,\n",
              " 5,\n",
              " 4,\n",
              " 2223,\n",
              " 5244,\n",
              " 16,\n",
              " 480,\n",
              " 66,\n",
              " 3785,\n",
              " 33,\n",
              " 4,\n",
              " 130,\n",
              " 12,\n",
              " 16,\n",
              " 38,\n",
              " 619,\n",
              " 5,\n",
              " 25,\n",
              " 124,\n",
              " 51,\n",
              " 36,\n",
              " 135,\n",
              " 48,\n",
              " 25,\n",
              " 1415,\n",
              " 33,\n",
              " 6,\n",
              " 22,\n",
              " 12,\n",
              " 215,\n",
              " 28,\n",
              " 77,\n",
              " 52,\n",
              " 5,\n",
              " 14,\n",
              " 407,\n",
              " 16,\n",
              " 82,\n",
              " 2,\n",
              " 8,\n",
              " 4,\n",
              " 107,\n",
              " 117,\n",
              " 5952,\n",
              " 15,\n",
              " 256,\n",
              " 4,\n",
              " 2,\n",
              " 7,\n",
              " 3766,\n",
              " 5,\n",
              " 723,\n",
              " 36,\n",
              " 71,\n",
              " 43,\n",
              " 530,\n",
              " 476,\n",
              " 26,\n",
              " 400,\n",
              " 317,\n",
              " 46,\n",
              " 7,\n",
              " 4,\n",
              " 2,\n",
              " 1029,\n",
              " 13,\n",
              " 104,\n",
              " 88,\n",
              " 4,\n",
              " 381,\n",
              " 15,\n",
              " 297,\n",
              " 98,\n",
              " 32,\n",
              " 2071,\n",
              " 56,\n",
              " 26,\n",
              " 141,\n",
              " 6,\n",
              " 194,\n",
              " 7486,\n",
              " 18,\n",
              " 4,\n",
              " 226,\n",
              " 22,\n",
              " 21,\n",
              " 134,\n",
              " 476,\n",
              " 26,\n",
              " 480,\n",
              " 5,\n",
              " 144,\n",
              " 30,\n",
              " 5535,\n",
              " 18,\n",
              " 51,\n",
              " 36,\n",
              " 28,\n",
              " 224,\n",
              " 92,\n",
              " 25,\n",
              " 104,\n",
              " 4,\n",
              " 226,\n",
              " 65,\n",
              " 16,\n",
              " 38,\n",
              " 1334,\n",
              " 88,\n",
              " 12,\n",
              " 16,\n",
              " 283,\n",
              " 5,\n",
              " 16,\n",
              " 4472,\n",
              " 113,\n",
              " 103,\n",
              " 32,\n",
              " 15,\n",
              " 16,\n",
              " 5345,\n",
              " 19,\n",
              " 178,\n",
              " 32]"
            ]
          },
          "metadata": {},
          "execution_count": 34
        }
      ]
    },
    {
      "cell_type": "code",
      "source": [
        "# Accessing the first label in the training dataset\n",
        "y_train[0]\n"
      ],
      "metadata": {
        "id": "67pldX73DDtj",
        "outputId": "1612b1fe-e346-42c8-ca96-c6e135104772",
        "colab": {
          "base_uri": "https://localhost:8080/"
        }
      },
      "execution_count": 35,
      "outputs": [
        {
          "output_type": "execute_result",
          "data": {
            "text/plain": [
              "1"
            ]
          },
          "metadata": {},
          "execution_count": 35
        }
      ]
    },
    {
      "cell_type": "code",
      "source": [
        "# Finding the maximum word index in the dataset\n",
        "max([max(seq) for seq in X_train])\n"
      ],
      "metadata": {
        "id": "LQt0QUHQDOki",
        "outputId": "8176d59b-2ce2-414f-95c7-f2b8026e56a4",
        "colab": {
          "base_uri": "https://localhost:8080/"
        }
      },
      "execution_count": 36,
      "outputs": [
        {
          "output_type": "execute_result",
          "data": {
            "text/plain": [
              "9999"
            ]
          },
          "metadata": {},
          "execution_count": 36
        }
      ]
    },
    {
      "cell_type": "code",
      "source": [
        "# Converting encoded reviews back to text\n",
        "word_to_id = imdb.get_word_index()\n",
        "\n",
        "# Creating a reverse mapping from indices to words\n",
        "id_to_word = {index: word for word, index in word_to_id.items()}\n",
        "\n",
        "# Decoding the first review by mapping indices to words\n",
        "review_text = \" \".join([id_to_word.get(i - 3, \"?\") for i in X_train[0]])\n"
      ],
      "metadata": {
        "id": "kebHWdYEEPEG"
      },
      "execution_count": 45,
      "outputs": []
    },
    {
      "cell_type": "code",
      "source": [
        "# Data preprocessing\n",
        "# Converting integer sequences into multi-hot encoded representations\n",
        "import numpy as np\n",
        "\n",
        "def multi_hot_encode(sequences, vocab_size=10000):\n",
        "    encoded_matrix = np.zeros((len(sequences), vocab_size))\n",
        "    for idx, seq in enumerate(sequences):\n",
        "        for token in seq:\n",
        "            encoded_matrix[idx, token] = 1.\n",
        "    return encoded_matrix\n",
        "\n",
        "X_train_encoded = multi_hot_encode(X_train)\n",
        "X_test_encoded = multi_hot_encode(X_test)\n"
      ],
      "metadata": {
        "id": "12cuI9_7ESsl"
      },
      "execution_count": 46,
      "outputs": []
    },
    {
      "cell_type": "code",
      "source": [
        "# Displaying the first training sample after multi-hot encoding\n",
        "X_train_encoded[0]\n"
      ],
      "metadata": {
        "id": "FWVUbu8VEeSk",
        "outputId": "70ff3043-56c9-42c7-cab5-3e5d2bf3b838",
        "colab": {
          "base_uri": "https://localhost:8080/"
        }
      },
      "execution_count": 47,
      "outputs": [
        {
          "output_type": "execute_result",
          "data": {
            "text/plain": [
              "array([0., 1., 1., ..., 0., 0., 0.])"
            ]
          },
          "metadata": {},
          "execution_count": 47
        }
      ]
    },
    {
      "cell_type": "code",
      "source": [
        "# Converting labels to float32 arrays\n",
        "Y_train = np.asarray(y_train).astype(\"float32\")\n",
        "Y_test = np.asarray(y_test).astype(\"float32\")\n"
      ],
      "metadata": {
        "id": "nNlu2mTfEjQG"
      },
      "execution_count": 48,
      "outputs": []
    },
    {
      "cell_type": "code",
      "source": [
        "# Constructing the neural network\n",
        "# Using 3 layers with 64 nodes each and \"tanh\" as the activation function\n",
        "# \"tanh\" is chosen over ReLU since it handles both positive and negative values effectively\n",
        "# L2 regularization is applied to prevent overfitting\n",
        "# Dropout layers are added to enhance generalization\n",
        "\n",
        "from tensorflow import keras\n",
        "from tensorflow.keras import layers\n",
        "from tensorflow.keras import regularizers\n",
        "\n",
        "neural_net = keras.Sequential([\n",
        "    layers.Dense(64, kernel_regularizer=regularizers.l2(0.005), activation=\"tanh\"),\n",
        "    layers.Dense(64, activation=\"tanh\"),\n",
        "    layers.Dropout(0.5),\n",
        "    layers.Dense(64, activation=\"tanh\"),\n",
        "    layers.Dropout(0.5),\n",
        "    layers.Dense(1, activation=\"sigmoid\")\n",
        "])\n"
      ],
      "metadata": {
        "id": "eSH7GpWeEp6s"
      },
      "execution_count": 49,
      "outputs": []
    },
    {
      "cell_type": "code",
      "source": [
        "# Compiling the neural network\n",
        "# Using RMSprop optimizer for adaptive learning\n",
        "# Mean Squared Error (MSE) as the loss function\n",
        "# Tracking accuracy as the evaluation metric\n",
        "\n",
        "neural_net.compile(optimizer=\"rmsprop\",\n",
        "                   loss=\"mse\",\n",
        "                   metrics=[\"accuracy\"])\n"
      ],
      "metadata": {
        "id": "BQIUkRfOE1SJ"
      },
      "execution_count": 52,
      "outputs": []
    },
    {
      "cell_type": "code",
      "source": [
        "# Validating the approach\n",
        "# Creating a validation set by splitting the training data\n",
        "\n",
        "X_val = X_train_encoded[:10000]\n",
        "X_train_partial = X_train_encoded[10000:]\n",
        "Y_val = Y_train[:10000]\n",
        "Y_train_partial = Y_train[10000:]\n"
      ],
      "metadata": {
        "id": "le-3tB4zE-BR"
      },
      "execution_count": 53,
      "outputs": []
    },
    {
      "cell_type": "code",
      "source": [
        "# Training the neural network\n",
        "# Using a batch size of 512 and training for 20 epochs\n",
        "# Validating with the previously set aside validation set\n",
        "\n",
        "training_history = neural_net.fit(\n",
        "    X_train_partial,\n",
        "    Y_train_partial,\n",
        "    epochs=20,\n",
        "    batch_size=512,\n",
        "    validation_data=(X_val, Y_val)\n",
        ")\n"
      ],
      "metadata": {
        "id": "TZEAWmwRFJdG",
        "outputId": "b9a33892-c1a9-4f9d-9872-6041d7c13320",
        "colab": {
          "base_uri": "https://localhost:8080/"
        }
      },
      "execution_count": 54,
      "outputs": [
        {
          "output_type": "stream",
          "name": "stdout",
          "text": [
            "Epoch 1/20\n",
            "\u001b[1m30/30\u001b[0m \u001b[32m━━━━━━━━━━━━━━━━━━━━\u001b[0m\u001b[37m\u001b[0m \u001b[1m4s\u001b[0m 78ms/step - accuracy: 0.6446 - loss: 0.6727 - val_accuracy: 0.8642 - val_loss: 0.2693\n",
            "Epoch 2/20\n",
            "\u001b[1m30/30\u001b[0m \u001b[32m━━━━━━━━━━━━━━━━━━━━\u001b[0m\u001b[37m\u001b[0m \u001b[1m2s\u001b[0m 53ms/step - accuracy: 0.8581 - loss: 0.2417 - val_accuracy: 0.8676 - val_loss: 0.1699\n",
            "Epoch 3/20\n",
            "\u001b[1m30/30\u001b[0m \u001b[32m━━━━━━━━━━━━━━━━━━━━\u001b[0m\u001b[37m\u001b[0m \u001b[1m2s\u001b[0m 40ms/step - accuracy: 0.8859 - loss: 0.1514 - val_accuracy: 0.8801 - val_loss: 0.1402\n",
            "Epoch 4/20\n",
            "\u001b[1m30/30\u001b[0m \u001b[32m━━━━━━━━━━━━━━━━━━━━\u001b[0m\u001b[37m\u001b[0m \u001b[1m2s\u001b[0m 52ms/step - accuracy: 0.8924 - loss: 0.1301 - val_accuracy: 0.8341 - val_loss: 0.1673\n",
            "Epoch 5/20\n",
            "\u001b[1m30/30\u001b[0m \u001b[32m━━━━━━━━━━━━━━━━━━━━\u001b[0m\u001b[37m\u001b[0m \u001b[1m1s\u001b[0m 40ms/step - accuracy: 0.8997 - loss: 0.1206 - val_accuracy: 0.7886 - val_loss: 0.1995\n",
            "Epoch 6/20\n",
            "\u001b[1m30/30\u001b[0m \u001b[32m━━━━━━━━━━━━━━━━━━━━\u001b[0m\u001b[37m\u001b[0m \u001b[1m2s\u001b[0m 69ms/step - accuracy: 0.8966 - loss: 0.1187 - val_accuracy: 0.8603 - val_loss: 0.1431\n",
            "Epoch 7/20\n",
            "\u001b[1m30/30\u001b[0m \u001b[32m━━━━━━━━━━━━━━━━━━━━\u001b[0m\u001b[37m\u001b[0m \u001b[1m2s\u001b[0m 41ms/step - accuracy: 0.9122 - loss: 0.1081 - val_accuracy: 0.8744 - val_loss: 0.1284\n",
            "Epoch 8/20\n",
            "\u001b[1m30/30\u001b[0m \u001b[32m━━━━━━━━━━━━━━━━━━━━\u001b[0m\u001b[37m\u001b[0m \u001b[1m1s\u001b[0m 40ms/step - accuracy: 0.9194 - loss: 0.0996 - val_accuracy: 0.8567 - val_loss: 0.1450\n",
            "Epoch 9/20\n",
            "\u001b[1m30/30\u001b[0m \u001b[32m━━━━━━━━━━━━━━━━━━━━\u001b[0m\u001b[37m\u001b[0m \u001b[1m1s\u001b[0m 41ms/step - accuracy: 0.9281 - loss: 0.0924 - val_accuracy: 0.8719 - val_loss: 0.1305\n",
            "Epoch 10/20\n",
            "\u001b[1m30/30\u001b[0m \u001b[32m━━━━━━━━━━━━━━━━━━━━\u001b[0m\u001b[37m\u001b[0m \u001b[1m1s\u001b[0m 41ms/step - accuracy: 0.9250 - loss: 0.0913 - val_accuracy: 0.8685 - val_loss: 0.1344\n",
            "Epoch 11/20\n",
            "\u001b[1m30/30\u001b[0m \u001b[32m━━━━━━━━━━━━━━━━━━━━\u001b[0m\u001b[37m\u001b[0m \u001b[1m1s\u001b[0m 41ms/step - accuracy: 0.9369 - loss: 0.0826 - val_accuracy: 0.8692 - val_loss: 0.1324\n",
            "Epoch 12/20\n",
            "\u001b[1m30/30\u001b[0m \u001b[32m━━━━━━━━━━━━━━━━━━━━\u001b[0m\u001b[37m\u001b[0m \u001b[1m1s\u001b[0m 41ms/step - accuracy: 0.9429 - loss: 0.0787 - val_accuracy: 0.8702 - val_loss: 0.1322\n",
            "Epoch 13/20\n",
            "\u001b[1m30/30\u001b[0m \u001b[32m━━━━━━━━━━━━━━━━━━━━\u001b[0m\u001b[37m\u001b[0m \u001b[1m1s\u001b[0m 41ms/step - accuracy: 0.9309 - loss: 0.0861 - val_accuracy: 0.8787 - val_loss: 0.1255\n",
            "Epoch 14/20\n",
            "\u001b[1m30/30\u001b[0m \u001b[32m━━━━━━━━━━━━━━━━━━━━\u001b[0m\u001b[37m\u001b[0m \u001b[1m2s\u001b[0m 60ms/step - accuracy: 0.9411 - loss: 0.0788 - val_accuracy: 0.8519 - val_loss: 0.1472\n",
            "Epoch 15/20\n",
            "\u001b[1m30/30\u001b[0m \u001b[32m━━━━━━━━━━━━━━━━━━━━\u001b[0m\u001b[37m\u001b[0m \u001b[1m1s\u001b[0m 42ms/step - accuracy: 0.9429 - loss: 0.0765 - val_accuracy: 0.8592 - val_loss: 0.1407\n",
            "Epoch 16/20\n",
            "\u001b[1m30/30\u001b[0m \u001b[32m━━━━━━━━━━━━━━━━━━━━\u001b[0m\u001b[37m\u001b[0m \u001b[1m1s\u001b[0m 41ms/step - accuracy: 0.9476 - loss: 0.0726 - val_accuracy: 0.8728 - val_loss: 0.1293\n",
            "Epoch 17/20\n",
            "\u001b[1m30/30\u001b[0m \u001b[32m━━━━━━━━━━━━━━━━━━━━\u001b[0m\u001b[37m\u001b[0m \u001b[1m1s\u001b[0m 41ms/step - accuracy: 0.9525 - loss: 0.0690 - val_accuracy: 0.8470 - val_loss: 0.1539\n",
            "Epoch 18/20\n",
            "\u001b[1m30/30\u001b[0m \u001b[32m━━━━━━━━━━━━━━━━━━━━\u001b[0m\u001b[37m\u001b[0m \u001b[1m2s\u001b[0m 51ms/step - accuracy: 0.9489 - loss: 0.0717 - val_accuracy: 0.8684 - val_loss: 0.1379\n",
            "Epoch 19/20\n",
            "\u001b[1m30/30\u001b[0m \u001b[32m━━━━━━━━━━━━━━━━━━━━\u001b[0m\u001b[37m\u001b[0m \u001b[1m2s\u001b[0m 40ms/step - accuracy: 0.9476 - loss: 0.0719 - val_accuracy: 0.8770 - val_loss: 0.1277\n",
            "Epoch 20/20\n",
            "\u001b[1m30/30\u001b[0m \u001b[32m━━━━━━━━━━━━━━━━━━━━\u001b[0m\u001b[37m\u001b[0m \u001b[1m1s\u001b[0m 41ms/step - accuracy: 0.9518 - loss: 0.0695 - val_accuracy: 0.8714 - val_loss: 0.1322\n"
          ]
        }
      ]
    },
    {
      "cell_type": "code",
      "source": [
        "# Extracting training history data\n",
        "training_history_dict = training_history.history\n",
        "\n",
        "# Displaying available keys in the history dictionary\n",
        "training_history_dict.keys()\n"
      ],
      "metadata": {
        "id": "f47qpDC_FsK_",
        "outputId": "6a29b94c-bb06-495d-8a45-d35545c2a044",
        "colab": {
          "base_uri": "https://localhost:8080/"
        }
      },
      "execution_count": 55,
      "outputs": [
        {
          "output_type": "execute_result",
          "data": {
            "text/plain": [
              "dict_keys(['accuracy', 'loss', 'val_accuracy', 'val_loss'])"
            ]
          },
          "metadata": {},
          "execution_count": 55
        }
      ]
    },
    {
      "cell_type": "code",
      "source": [
        "# Importing the required library for visualization\n",
        "import matplotlib.pyplot as plt\n",
        "\n",
        "# Extracting training history\n",
        "history_dict = training_history.history\n",
        "loss_values = history_dict[\"loss\"]\n",
        "val_loss_values = history_dict[\"val_loss\"]\n",
        "epochs = range(1, len(loss_values) + 1)\n",
        "\n",
        "# Plotting training loss with a dashed red line and markers\n",
        "plt.plot(epochs, loss_values, \"ro--\", label=\"Training Loss\")\n",
        "\n",
        "# Plotting validation loss with a solid blue line\n",
        "plt.plot(epochs, val_loss_values, \"bs-\", label=\"Validation Loss\")\n",
        "\n",
        "# Adding title and labels\n",
        "plt.title(\"Training and Validation Loss\")\n",
        "plt.xlabel(\"Epochs\")\n",
        "plt.ylabel(\"Loss\")\n",
        "\n",
        "# Displaying legend\n",
        "plt.legend()\n",
        "\n",
        "# Showing the plot\n",
        "plt.show()\n"
      ],
      "metadata": {
        "id": "pkSjaaP6FtiW",
        "outputId": "e5f21b13-1701-40d8-9156-03f5e3a52479",
        "colab": {
          "base_uri": "https://localhost:8080/",
          "height": 472
        }
      },
      "execution_count": 56,
      "outputs": [
        {
          "output_type": "display_data",
          "data": {
            "text/plain": [
              "<Figure size 640x480 with 1 Axes>"
            ],
            "image/png": "[encoded data removed]"
          },
          "metadata": {}
        }
      ]
    },
    {
      "cell_type": "code",
      "source": [
        "# Clearing the previous plot\n",
        "plt.clf()\n",
        "\n",
        "# Extracting accuracy values\n",
        "acc = training_history_dict[\"accuracy\"]\n",
        "val_acc = training_history_dict[\"val_accuracy\"]\n",
        "\n",
        "# Plotting training accuracy with a red dashed line and circle markers\n",
        "plt.plot(epochs, acc, \"ro--\", label=\"Training Accuracy\")\n",
        "\n",
        "# Plotting validation accuracy with a solid green line and square markers\n",
        "plt.plot(epochs, val_acc, \"gs-\", label=\"Validation Accuracy\")\n",
        "\n",
        "# Adding title and labels\n",
        "plt.title(\"Training and Validation Accuracy\")\n",
        "plt.xlabel(\"Epochs\")\n",
        "plt.ylabel(\"Accuracy\")\n",
        "\n",
        "# Displaying legend\n",
        "plt.legend()\n",
        "\n",
        "# Showing the plot\n",
        "plt.show()\n"
      ],
      "metadata": {
        "id": "QuyeFabyGdvK",
        "outputId": "32ef85b9-ed14-4f8f-ad79-95ceac7ae6b4",
        "colab": {
          "base_uri": "https://localhost:8080/",
          "height": 472
        }
      },
      "execution_count": 57,
      "outputs": [
        {
          "output_type": "display_data",
          "data": {
            "text/plain": [
              "<Figure size 640x480 with 1 Axes>"
            ],
            "image/png": "[encoded data removed]"
          },
          "metadata": {}
        }
      ]
    },
    {
      "cell_type": "code",
      "source": [
        "# Evaluating the trained model on the test dataset\n",
        "test_results = neural_net.evaluate(X_test_encoded, Y_test)\n"
      ],
      "metadata": {
        "id": "X0qcQd2NGpw0",
        "outputId": "5d055f09-49c1-486b-b02a-a56aa6e6a534",
        "colab": {
          "base_uri": "https://localhost:8080/"
        }
      },
      "execution_count": 58,
      "outputs": [
        {
          "output_type": "stream",
          "name": "stdout",
          "text": [
            "\u001b[1m782/782\u001b[0m \u001b[32m━━━━━━━━━━━━━━━━━━━━\u001b[0m\u001b[37m\u001b[0m \u001b[1m3s\u001b[0m 4ms/step - accuracy: 0.8657 - loss: 0.1382\n"
          ]
        }
      ]
    },
    {
      "cell_type": "code",
      "source": [
        "# Displaying the test evaluation results\n",
        "test_results\n"
      ],
      "metadata": {
        "id": "Tu0BN60KHFyt",
        "outputId": "5fd69129-bb70-42d7-bedb-c2eb4c18f2d7",
        "colab": {
          "base_uri": "https://localhost:8080/"
        }
      },
      "execution_count": 59,
      "outputs": [
        {
          "output_type": "execute_result",
          "data": {
            "text/plain": [
              "[0.13651978969573975, 0.8685200214385986]"
            ]
          },
          "metadata": {},
          "execution_count": 59
        }
      ]
    },
    {
      "cell_type": "code",
      "source": [
        "# Observing model stability with more nodes\n",
        "# Retraining a new model with multiple layers and MSE loss function\n",
        "\n",
        "from tensorflow import keras\n",
        "from tensorflow.keras import layers\n",
        "from tensorflow.keras import regularizers\n",
        "\n",
        "# Defining a new model with dropout layers\n",
        "new_model = keras.Sequential([\n",
        "    layers.Dense(64, kernel_regularizer=regularizers.l2(0.005), activation=\"tanh\"),\n",
        "    layers.Dropout(0.5),\n",
        "    layers.Dense(64, activation=\"tanh\"),\n",
        "    layers.Dropout(0.5),\n",
        "    layers.Dense(64, activation=\"tanh\"),\n",
        "    layers.Dropout(0.5),\n",
        "    layers.Dense(1, activation=\"sigmoid\")\n",
        "])\n",
        "\n",
        "# Compiling the model with Adam optimizer\n",
        "new_model.compile(optimizer=\"adam\",\n",
        "                  loss=\"mse\",\n",
        "                  metrics=[\"accuracy\"])\n",
        "\n",
        "# Training the model for 4 epochs with a batch size of 512\n",
        "new_model.fit(X_train_encoded, Y_train, epochs=4, batch_size=512)\n",
        "\n",
        "# Evaluating the model on the test set\n",
        "new_results = new_model.evaluate(X_test_encoded, Y_test)\n"
      ],
      "metadata": {
        "id": "eLCP-LpfHP9Z",
        "outputId": "fa5a4b90-6ac1-49d9-fdbf-90bec3f79649",
        "colab": {
          "base_uri": "https://localhost:8080/"
        }
      },
      "execution_count": 60,
      "outputs": [
        {
          "output_type": "stream",
          "name": "stdout",
          "text": [
            "Epoch 1/4\n",
            "\u001b[1m49/49\u001b[0m \u001b[32m━━━━━━━━━━━━━━━━━━━━\u001b[0m\u001b[37m\u001b[0m \u001b[1m5s\u001b[0m 39ms/step - accuracy: 0.6882 - loss: 0.5441\n",
            "Epoch 2/4\n",
            "\u001b[1m49/49\u001b[0m \u001b[32m━━━━━━━━━━━━━━━━━━━━\u001b[0m\u001b[37m\u001b[0m \u001b[1m2s\u001b[0m 33ms/step - accuracy: 0.8960 - loss: 0.1525\n",
            "Epoch 3/4\n",
            "\u001b[1m49/49\u001b[0m \u001b[32m━━━━━━━━━━━━━━━━━━━━\u001b[0m\u001b[37m\u001b[0m \u001b[1m3s\u001b[0m 34ms/step - accuracy: 0.9041 - loss: 0.1444\n",
            "Epoch 4/4\n",
            "\u001b[1m49/49\u001b[0m \u001b[32m━━━━━━━━━━━━━━━━━━━━\u001b[0m\u001b[37m\u001b[0m \u001b[1m2s\u001b[0m 34ms/step - accuracy: 0.9099 - loss: 0.1423\n",
            "\u001b[1m782/782\u001b[0m \u001b[32m━━━━━━━━━━━━━━━━━━━━\u001b[0m\u001b[37m\u001b[0m \u001b[1m3s\u001b[0m 4ms/step - accuracy: 0.8723 - loss: 0.1624\n"
          ]
        }
      ]
    },
    {
      "cell_type": "code",
      "source": [
        "# Displaying the test evaluation results\n",
        "new_results\n"
      ],
      "metadata": {
        "id": "2y3eJ29dHZc4",
        "outputId": "627cfe82-da9c-4c54-e8c3-f89932ad6eff",
        "colab": {
          "base_uri": "https://localhost:8080/"
        }
      },
      "execution_count": 64,
      "outputs": [
        {
          "output_type": "execute_result",
          "data": {
            "text/plain": [
              "[0.16125860810279846, 0.8752400279045105]"
            ]
          },
          "metadata": {},
          "execution_count": 64
        }
      ]
    }
  ],
  "metadata": {
    "colab": {
      "name": "Welcome to Colaboratory",
      "provenance": []
    },
    "kernelspec": {
      "display_name": "Python 3",
      "name": "python3"
    }
  },
  "nbformat": 4,
  "nbformat_minor": 0
}